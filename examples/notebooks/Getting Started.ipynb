{
 "cells": [
  {
   "cell_type": "code",
   "execution_count": 1,
   "metadata": {},
   "outputs": [
    {
     "name": "stderr",
     "output_type": "stream",
     "text": [
      "c:\\Users\\wjpeacoc\\AppData\\Local\\anaconda3\\envs\\nett_env\\lib\\site-packages\\tqdm\\auto.py:21: TqdmWarning: IProgress not found. Please update jupyter and ipywidgets. See https://ipywidgets.readthedocs.io/en/stable/user_install.html\n",
      "  from .autonotebook import tqdm as notebook_tqdm\n"
     ]
    },
    {
     "ename": "FileNotFoundError",
     "evalue": "[WinError 3] The system cannot find the path specified: '/tmp/ml-agents-binaries'",
     "output_type": "error",
     "traceback": [
      "\u001b[1;31m---------------------------------------------------------------------------\u001b[0m",
      "\u001b[1;31mFileNotFoundError\u001b[0m                         Traceback (most recent call last)",
      "Cell \u001b[1;32mIn[1], line 2\u001b[0m\n\u001b[0;32m      1\u001b[0m \u001b[38;5;66;03m# imports\u001b[39;00m\n\u001b[1;32m----> 2\u001b[0m \u001b[38;5;28;01mfrom\u001b[39;00m \u001b[38;5;21;01mnett\u001b[39;00m \u001b[38;5;28;01mimport\u001b[39;00m Brain, Body, Environment\n\u001b[0;32m      3\u001b[0m \u001b[38;5;28;01mfrom\u001b[39;00m \u001b[38;5;21;01mnett\u001b[39;00m \u001b[38;5;28;01mimport\u001b[39;00m NETT\n",
      "File \u001b[1;32mc:\\Users\\wjpeacoc\\AppData\\Local\\anaconda3\\envs\\nett_env\\lib\\site-packages\\nett\\__init__.py:44\u001b[0m\n\u001b[0;32m     41\u001b[0m \u001b[38;5;66;03m# path to store ml-agents binaries\u001b[39;00m\n\u001b[0;32m     42\u001b[0m \u001b[38;5;28;01mfor\u001b[39;00m tmp_dir \u001b[38;5;129;01min\u001b[39;00m [\u001b[38;5;124m\"\u001b[39m\u001b[38;5;124m/tmp/ml-agents-binaries\u001b[39m\u001b[38;5;124m\"\u001b[39m, \u001b[38;5;124m\"\u001b[39m\u001b[38;5;124m/tmp/ml-agents-binaries/binaries\u001b[39m\u001b[38;5;124m\"\u001b[39m, \u001b[38;5;124m\"\u001b[39m\u001b[38;5;124m/tmp/ml-agents-binaries/tmp\u001b[39m\u001b[38;5;124m\"\u001b[39m]:\n\u001b[0;32m     43\u001b[0m   \u001b[38;5;66;03m# TODO: May need to allow for permissions other than X777\u001b[39;00m\n\u001b[1;32m---> 44\u001b[0m   \u001b[38;5;28;01mif\u001b[39;00m stat\u001b[38;5;241m.\u001b[39mS_IMODE(\u001b[43mos\u001b[49m\u001b[38;5;241;43m.\u001b[39;49m\u001b[43mstat\u001b[49m\u001b[43m(\u001b[49m\u001b[43mtmp_dir\u001b[49m\u001b[43m)\u001b[49m\u001b[38;5;241m.\u001b[39mst_mode) \u001b[38;5;241m%\u001b[39m \u001b[38;5;241m0o1000\u001b[39m \u001b[38;5;241m!=\u001b[39m \u001b[38;5;241m0o777\u001b[39m:\n\u001b[0;32m     45\u001b[0m     \u001b[38;5;66;03m# TODO: May need to check for permissions other than W_OK\u001b[39;00m\n\u001b[0;32m     46\u001b[0m     \u001b[38;5;28;01mif\u001b[39;00m os\u001b[38;5;241m.\u001b[39mstat(tmp_dir)\u001b[38;5;241m.\u001b[39mst_uid \u001b[38;5;241m==\u001b[39m os\u001b[38;5;241m.\u001b[39mgetuid() \u001b[38;5;129;01mor\u001b[39;00m os\u001b[38;5;241m.\u001b[39maccess(tmp_dir, os\u001b[38;5;241m.\u001b[39mW_OK):\n\u001b[0;32m     47\u001b[0m       os\u001b[38;5;241m.\u001b[39mchmod(tmp_dir, \u001b[38;5;241m0o1777\u001b[39m)\n",
      "\u001b[1;31mFileNotFoundError\u001b[0m: [WinError 3] The system cannot find the path specified: '/tmp/ml-agents-binaries'"
     ]
    }
   ],
   "source": [
    "# imports\n",
    "from nett import Brain, Body, Environment\n",
    "from nett import NETT"
   ]
  },
  {
   "cell_type": "code",
   "execution_count": null,
   "metadata": {},
   "outputs": [
    {
     "name": "stderr",
     "output_type": "stream",
     "text": [
      "[netts.Environment] INFO:  Executable permission is set\n",
      "[netts.Environment] INFO:  Display is set\n"
     ]
    }
   ],
   "source": [
    "# define components (brain, body and environment)\n",
    "# this example shows only a minimal setup, a LOT of customization is possible here\n",
    "brain = Brain(policy='CnnPolicy', algorithm='PPO')\n",
    "body = Body(type=\"basic\", dvs=False)\n",
    "environment = Environment(config=\"parsing\", executable_path=\"/data/wjpeacoc/builds/parsing/ParsingBuild-linux.x86_64\")"
   ]
  },
  {
   "cell_type": "code",
   "execution_count": null,
   "metadata": {},
   "outputs": [],
   "source": [
    "# construct the NETT\n",
    "nett = NETT(brain=brain, body=body, environment=environment)\n",
    "# run the NETT\n",
    "job_sheet = nett.run(output_dir=\"./test_run\", num_brains=1, train_eps=10, test_eps=1)"
   ]
  },
  {
   "cell_type": "code",
   "execution_count": null,
   "metadata": {},
   "outputs": [
    {
     "data": {
      "text/html": [
       "<div>\n",
       "<style scoped>\n",
       "    .dataframe tbody tr th:only-of-type {\n",
       "        vertical-align: middle;\n",
       "    }\n",
       "\n",
       "    .dataframe tbody tr th {\n",
       "        vertical-align: top;\n",
       "    }\n",
       "\n",
       "    .dataframe thead th {\n",
       "        text-align: right;\n",
       "    }\n",
       "</style>\n",
       "<table border=\"1\" class=\"dataframe\">\n",
       "  <thead>\n",
       "    <tr style=\"text-align: right;\">\n",
       "      <th></th>\n",
       "      <th>running</th>\n",
       "      <th>specification.device</th>\n",
       "      <th>specification.mode</th>\n",
       "      <th>specification.brain_id</th>\n",
       "    </tr>\n",
       "  </thead>\n",
       "  <tbody>\n",
       "    <tr>\n",
       "      <th>0</th>\n",
       "      <td>True</td>\n",
       "      <td>0</td>\n",
       "      <td>object1-horizontal</td>\n",
       "      <td>1</td>\n",
       "    </tr>\n",
       "    <tr>\n",
       "      <th>1</th>\n",
       "      <td>True</td>\n",
       "      <td>0</td>\n",
       "      <td>object2-horizontal</td>\n",
       "      <td>1</td>\n",
       "    </tr>\n",
       "    <tr>\n",
       "      <th>2</th>\n",
       "      <td>True</td>\n",
       "      <td>1</td>\n",
       "      <td>object1-vertical</td>\n",
       "      <td>1</td>\n",
       "    </tr>\n",
       "    <tr>\n",
       "      <th>3</th>\n",
       "      <td>True</td>\n",
       "      <td>2</td>\n",
       "      <td>object2-vertical</td>\n",
       "      <td>1</td>\n",
       "    </tr>\n",
       "  </tbody>\n",
       "</table>\n",
       "</div>"
      ],
      "text/plain": [
       "   running  specification.device  specification.mode  specification.brain_id\n",
       "0     True                     0  object1-horizontal                       1\n",
       "1     True                     0  object2-horizontal                       1\n",
       "2     True                     1    object1-vertical                       1\n",
       "3     True                     2    object2-vertical                       1"
      ]
     },
     "execution_count": 6,
     "metadata": {},
     "output_type": "execute_result"
    }
   ],
   "source": [
    "# check status\n",
    "nett.status(job_sheet)"
   ]
  }
 ],
 "metadata": {
  "kernelspec": {
   "display_name": "testenv",
   "language": "python",
   "name": "python3"
  },
  "language_info": {
   "codemirror_mode": {
    "name": "ipython",
    "version": 3
   },
   "file_extension": ".py",
   "mimetype": "text/x-python",
   "name": "python",
   "nbconvert_exporter": "python",
   "pygments_lexer": "ipython3",
   "version": "3.10.12"
  }
 },
 "nbformat": 4,
 "nbformat_minor": 2
}
